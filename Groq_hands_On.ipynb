{
 "cells": [
  {
   "cell_type": "code",
   "execution_count": 1,
   "id": "7206256d-6dba-4d1c-838e-fbf57f0464cb",
   "metadata": {
    "scrolled": true
   },
   "outputs": [
    {
     "name": "stdout",
     "output_type": "stream",
     "text": [
      "Collecting langchain-groq\n",
      "  Downloading langchain_groq-0.1.9-py3-none-any.whl.metadata (2.9 kB)\n",
      "Collecting groq<1,>=0.4.1 (from langchain-groq)\n",
      "  Downloading groq-0.11.0-py3-none-any.whl.metadata (13 kB)\n",
      "Requirement already satisfied: langchain-core<0.3.0,>=0.2.26 in c:\\users\\hp\\streamlitenv\\lib\\site-packages (from langchain-groq) (0.2.34)\n",
      "Requirement already satisfied: anyio<5,>=3.5.0 in c:\\users\\hp\\streamlitenv\\lib\\site-packages (from groq<1,>=0.4.1->langchain-groq) (4.2.0)\n",
      "Collecting distro<2,>=1.7.0 (from groq<1,>=0.4.1->langchain-groq)\n",
      "  Using cached distro-1.9.0-py3-none-any.whl.metadata (6.8 kB)\n",
      "Requirement already satisfied: httpx<1,>=0.23.0 in c:\\users\\hp\\streamlitenv\\lib\\site-packages (from groq<1,>=0.4.1->langchain-groq) (0.27.0)\n",
      "Requirement already satisfied: pydantic<3,>=1.9.0 in c:\\users\\hp\\streamlitenv\\lib\\site-packages (from groq<1,>=0.4.1->langchain-groq) (2.8.2)\n",
      "Requirement already satisfied: sniffio in c:\\users\\hp\\streamlitenv\\lib\\site-packages (from groq<1,>=0.4.1->langchain-groq) (1.3.0)\n",
      "Requirement already satisfied: typing-extensions<5,>=4.7 in c:\\users\\hp\\streamlitenv\\lib\\site-packages (from groq<1,>=0.4.1->langchain-groq) (4.11.0)\n",
      "Requirement already satisfied: PyYAML>=5.3 in c:\\users\\hp\\streamlitenv\\lib\\site-packages (from langchain-core<0.3.0,>=0.2.26->langchain-groq) (6.0.1)\n",
      "Requirement already satisfied: jsonpatch<2.0,>=1.33 in c:\\users\\hp\\streamlitenv\\lib\\site-packages (from langchain-core<0.3.0,>=0.2.26->langchain-groq) (1.33)\n",
      "Requirement already satisfied: langsmith<0.2.0,>=0.1.75 in c:\\users\\hp\\streamlitenv\\lib\\site-packages (from langchain-core<0.3.0,>=0.2.26->langchain-groq) (0.1.102)\n",
      "Requirement already satisfied: packaging<25,>=23.2 in c:\\users\\hp\\streamlitenv\\lib\\site-packages (from langchain-core<0.3.0,>=0.2.26->langchain-groq) (23.2)\n",
      "Requirement already satisfied: tenacity!=8.4.0,<9.0.0,>=8.1.0 in c:\\users\\hp\\streamlitenv\\lib\\site-packages (from langchain-core<0.3.0,>=0.2.26->langchain-groq) (8.2.3)\n",
      "Requirement already satisfied: idna>=2.8 in c:\\users\\hp\\streamlitenv\\lib\\site-packages (from anyio<5,>=3.5.0->groq<1,>=0.4.1->langchain-groq) (3.7)\n",
      "Requirement already satisfied: certifi in c:\\users\\hp\\streamlitenv\\lib\\site-packages (from httpx<1,>=0.23.0->groq<1,>=0.4.1->langchain-groq) (2024.7.4)\n",
      "Requirement already satisfied: httpcore==1.* in c:\\users\\hp\\streamlitenv\\lib\\site-packages (from httpx<1,>=0.23.0->groq<1,>=0.4.1->langchain-groq) (1.0.5)\n",
      "Requirement already satisfied: h11<0.15,>=0.13 in c:\\users\\hp\\streamlitenv\\lib\\site-packages (from httpcore==1.*->httpx<1,>=0.23.0->groq<1,>=0.4.1->langchain-groq) (0.14.0)\n",
      "Requirement already satisfied: jsonpointer>=1.9 in c:\\users\\hp\\streamlitenv\\lib\\site-packages (from jsonpatch<2.0,>=1.33->langchain-core<0.3.0,>=0.2.26->langchain-groq) (3.0.0)\n",
      "Requirement already satisfied: orjson<4.0.0,>=3.9.14 in c:\\users\\hp\\streamlitenv\\lib\\site-packages (from langsmith<0.2.0,>=0.1.75->langchain-core<0.3.0,>=0.2.26->langchain-groq) (3.10.7)\n",
      "Requirement already satisfied: requests<3,>=2 in c:\\users\\hp\\streamlitenv\\lib\\site-packages (from langsmith<0.2.0,>=0.1.75->langchain-core<0.3.0,>=0.2.26->langchain-groq) (2.32.3)\n",
      "Requirement already satisfied: annotated-types>=0.4.0 in c:\\users\\hp\\streamlitenv\\lib\\site-packages (from pydantic<3,>=1.9.0->groq<1,>=0.4.1->langchain-groq) (0.7.0)\n",
      "Requirement already satisfied: pydantic-core==2.20.1 in c:\\users\\hp\\streamlitenv\\lib\\site-packages (from pydantic<3,>=1.9.0->groq<1,>=0.4.1->langchain-groq) (2.20.1)\n",
      "Requirement already satisfied: charset-normalizer<4,>=2 in c:\\users\\hp\\streamlitenv\\lib\\site-packages (from requests<3,>=2->langsmith<0.2.0,>=0.1.75->langchain-core<0.3.0,>=0.2.26->langchain-groq) (3.3.2)\n",
      "Requirement already satisfied: urllib3<3,>=1.21.1 in c:\\users\\hp\\streamlitenv\\lib\\site-packages (from requests<3,>=2->langsmith<0.2.0,>=0.1.75->langchain-core<0.3.0,>=0.2.26->langchain-groq) (2.2.2)\n",
      "Downloading langchain_groq-0.1.9-py3-none-any.whl (14 kB)\n",
      "Downloading groq-0.11.0-py3-none-any.whl (106 kB)\n",
      "Using cached distro-1.9.0-py3-none-any.whl (20 kB)\n",
      "Installing collected packages: distro, groq, langchain-groq\n",
      "Successfully installed distro-1.9.0 groq-0.11.0 langchain-groq-0.1.9\n",
      "Note: you may need to restart the kernel to use updated packages.\n"
     ]
    }
   ],
   "source": [
    "pip install langchain-groq"
   ]
  },
  {
   "cell_type": "markdown",
   "id": "bac7f358-bdd9-4873-ad94-c82adba2ba2e",
   "metadata": {},
   "source": [
    "### What is Groq ?\n",
    "\n",
    "Groq is an open-source, Python-based framework for querying and manipulating graph data structures. It provides a simple and expressive way to work with graphs, allowing developers to perform various operations on graph data, such as querying, filtering, and aggregating. Groq is particularly useful for working with large-scale graph data, such as social networks, knowledge graphs, or recommender systems. Its primary design goals are to provide a concise and expressive query language, high performance, and scalability.\n",
    "\n",
    "### Super Fast query-responses !!!\n",
    "\n",
    "The LPU (language processing unit) Inference Engine by Groq is a new processing system that handles computationally extensive tasks with sequential components, particularly in generating responses for llms. This innovative technology transforms how we process and generate text, offering unparalleled performance and precision.\r\n",
    "\r\n",
    "Compared to the traditional central processing unit (CPU) and graphics processing unit (GPU), LPU has a greater computing capacity. This means that the time it takes to predict a word is substantially reduced, making sequences of text to be generated much faster. Moreover, LPU also deals with memory bottlenecks, a common limitation of GPUs when dealing with LLMs. "
   ]
  },
  {
   "cell_type": "code",
   "execution_count": 2,
   "id": "a5f0fb15-58c3-4b1a-9474-2b68c90d0401",
   "metadata": {},
   "outputs": [],
   "source": [
    "from langchain_groq import ChatGroq\n",
    "\n",
    "llm = ChatGroq(\n",
    "    model=\"mixtral-8x7b-32768\",\n",
    "    temperature=0,\n",
    "    groq_api_key=\"gsk_WTlWDdcNPonhdVX8Xs96WGdyb3FYKGr....\"\n",
    ")"
   ]
  },
  {
   "cell_type": "code",
   "execution_count": 4,
   "id": "8cf7cc38-b8d2-42f0-9c14-9232e92ac70c",
   "metadata": {},
   "outputs": [
    {
     "data": {
      "text/plain": [
       "'Elon Musk is an entrepreneur and business magnate who is known for founding several successful companies, including PayPal, SpaceX, and Tesla. He was born in South Africa in 1971 and later moved to the United States to attend college. After graduating from the University of Pennsylvania with degrees in physics and economics, Musk founded several different companies, including Zip2, X.com, and PayPal.\\n\\nIn 2002, Musk founded SpaceX, a company that is dedicated to developing and manufacturing advanced rockets and spacecraft with the goal of reducing space transportation costs and enabling the colonization of Mars. He is also the CEO of Tesla, an electric vehicle and clean energy company that he helped found in 2003.\\n\\nMusk is known for his ambitious and visionary approach to business and technology, and he has been recognized for his contributions to the fields of transportation, energy, and space exploration. He has been named one of the most influential people in the world by several publications, and he has a net worth of several billion dollars.'"
      ]
     },
     "execution_count": 4,
     "metadata": {},
     "output_type": "execute_result"
    }
   ],
   "source": [
    "response = llm.invoke(\"who is elon musk?\")\n",
    "response.content"
   ]
  },
  {
   "cell_type": "code",
   "execution_count": 7,
   "id": "dde84293-fbaf-4e27-9762-1a577c43a315",
   "metadata": {},
   "outputs": [
    {
     "name": "stdout",
     "output_type": "stream",
     "text": [
      "Requirement already satisfied: langchain-groq===0.1.9 in c:\\users\\hp\\streamlitenv\\lib\\site-packages (0.1.9)\n",
      "Requirement already satisfied: groq<1,>=0.4.1 in c:\\users\\hp\\streamlitenv\\lib\\site-packages (from langchain-groq===0.1.9) (0.11.0)\n",
      "Requirement already satisfied: langchain-core<0.3.0,>=0.2.26 in c:\\users\\hp\\streamlitenv\\lib\\site-packages (from langchain-groq===0.1.9) (0.2.34)\n",
      "Requirement already satisfied: anyio<5,>=3.5.0 in c:\\users\\hp\\streamlitenv\\lib\\site-packages (from groq<1,>=0.4.1->langchain-groq===0.1.9) (4.2.0)\n",
      "Requirement already satisfied: distro<2,>=1.7.0 in c:\\users\\hp\\streamlitenv\\lib\\site-packages (from groq<1,>=0.4.1->langchain-groq===0.1.9) (1.9.0)\n",
      "Requirement already satisfied: httpx<1,>=0.23.0 in c:\\users\\hp\\streamlitenv\\lib\\site-packages (from groq<1,>=0.4.1->langchain-groq===0.1.9) (0.27.0)\n",
      "Requirement already satisfied: pydantic<3,>=1.9.0 in c:\\users\\hp\\streamlitenv\\lib\\site-packages (from groq<1,>=0.4.1->langchain-groq===0.1.9) (2.8.2)\n",
      "Requirement already satisfied: sniffio in c:\\users\\hp\\streamlitenv\\lib\\site-packages (from groq<1,>=0.4.1->langchain-groq===0.1.9) (1.3.0)\n",
      "Requirement already satisfied: typing-extensions<5,>=4.7 in c:\\users\\hp\\streamlitenv\\lib\\site-packages (from groq<1,>=0.4.1->langchain-groq===0.1.9) (4.11.0)\n",
      "Requirement already satisfied: PyYAML>=5.3 in c:\\users\\hp\\streamlitenv\\lib\\site-packages (from langchain-core<0.3.0,>=0.2.26->langchain-groq===0.1.9) (6.0.1)\n",
      "Requirement already satisfied: jsonpatch<2.0,>=1.33 in c:\\users\\hp\\streamlitenv\\lib\\site-packages (from langchain-core<0.3.0,>=0.2.26->langchain-groq===0.1.9) (1.33)\n",
      "Requirement already satisfied: langsmith<0.2.0,>=0.1.75 in c:\\users\\hp\\streamlitenv\\lib\\site-packages (from langchain-core<0.3.0,>=0.2.26->langchain-groq===0.1.9) (0.1.102)\n",
      "Requirement already satisfied: packaging<25,>=23.2 in c:\\users\\hp\\streamlitenv\\lib\\site-packages (from langchain-core<0.3.0,>=0.2.26->langchain-groq===0.1.9) (23.2)\n",
      "Requirement already satisfied: tenacity!=8.4.0,<9.0.0,>=8.1.0 in c:\\users\\hp\\streamlitenv\\lib\\site-packages (from langchain-core<0.3.0,>=0.2.26->langchain-groq===0.1.9) (8.2.3)\n",
      "Requirement already satisfied: idna>=2.8 in c:\\users\\hp\\streamlitenv\\lib\\site-packages (from anyio<5,>=3.5.0->groq<1,>=0.4.1->langchain-groq===0.1.9) (3.7)\n",
      "Requirement already satisfied: certifi in c:\\users\\hp\\streamlitenv\\lib\\site-packages (from httpx<1,>=0.23.0->groq<1,>=0.4.1->langchain-groq===0.1.9) (2024.7.4)\n",
      "Requirement already satisfied: httpcore==1.* in c:\\users\\hp\\streamlitenv\\lib\\site-packages (from httpx<1,>=0.23.0->groq<1,>=0.4.1->langchain-groq===0.1.9) (1.0.5)\n",
      "Requirement already satisfied: h11<0.15,>=0.13 in c:\\users\\hp\\streamlitenv\\lib\\site-packages (from httpcore==1.*->httpx<1,>=0.23.0->groq<1,>=0.4.1->langchain-groq===0.1.9) (0.14.0)\n",
      "Requirement already satisfied: jsonpointer>=1.9 in c:\\users\\hp\\streamlitenv\\lib\\site-packages (from jsonpatch<2.0,>=1.33->langchain-core<0.3.0,>=0.2.26->langchain-groq===0.1.9) (3.0.0)\n",
      "Requirement already satisfied: orjson<4.0.0,>=3.9.14 in c:\\users\\hp\\streamlitenv\\lib\\site-packages (from langsmith<0.2.0,>=0.1.75->langchain-core<0.3.0,>=0.2.26->langchain-groq===0.1.9) (3.10.7)\n",
      "Requirement already satisfied: requests<3,>=2 in c:\\users\\hp\\streamlitenv\\lib\\site-packages (from langsmith<0.2.0,>=0.1.75->langchain-core<0.3.0,>=0.2.26->langchain-groq===0.1.9) (2.32.3)\n",
      "Requirement already satisfied: annotated-types>=0.4.0 in c:\\users\\hp\\streamlitenv\\lib\\site-packages (from pydantic<3,>=1.9.0->groq<1,>=0.4.1->langchain-groq===0.1.9) (0.7.0)\n",
      "Requirement already satisfied: pydantic-core==2.20.1 in c:\\users\\hp\\streamlitenv\\lib\\site-packages (from pydantic<3,>=1.9.0->groq<1,>=0.4.1->langchain-groq===0.1.9) (2.20.1)\n",
      "Requirement already satisfied: charset-normalizer<4,>=2 in c:\\users\\hp\\streamlitenv\\lib\\site-packages (from requests<3,>=2->langsmith<0.2.0,>=0.1.75->langchain-core<0.3.0,>=0.2.26->langchain-groq===0.1.9) (3.3.2)\n",
      "Requirement already satisfied: urllib3<3,>=1.21.1 in c:\\users\\hp\\streamlitenv\\lib\\site-packages (from requests<3,>=2->langsmith<0.2.0,>=0.1.75->langchain-core<0.3.0,>=0.2.26->langchain-groq===0.1.9) (2.2.2)\n",
      "Note: you may need to restart the kernel to use updated packages.\n"
     ]
    }
   ],
   "source": [
    "pip install langchain-groq===0.1.9\n"
   ]
  }
 ],
 "metadata": {
  "kernelspec": {
   "display_name": "Python 3 (ipykernel)",
   "language": "python",
   "name": "python3"
  },
  "language_info": {
   "codemirror_mode": {
    "name": "ipython",
    "version": 3
   },
   "file_extension": ".py",
   "mimetype": "text/x-python",
   "name": "python",
   "nbconvert_exporter": "python",
   "pygments_lexer": "ipython3",
   "version": "3.11.0"
  }
 },
 "nbformat": 4,
 "nbformat_minor": 5
}
