{
 "cells": [
  {
   "cell_type": "code",
   "execution_count": 2,
   "id": "faff2c52-547c-4cd6-aa4a-588706a0648f",
   "metadata": {},
   "outputs": [
    {
     "name": "stdout",
     "output_type": "stream",
     "text": [
      "The first person to land on the moon was Neil Armstrong. He stepped onto the lunar surface on July 20, 1969, as part of the Apollo 11 mission.\n"
     ]
    }
   ],
   "source": [
    "from langchain_groq import ChatGroq\n",
    "\n",
    "llm = ChatGroq(\n",
    "    temperature=0, \n",
    "    groq_api_key='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', \n",
    "    model_name=\"llama-3.1-70b-versatile\"\n",
    ")"
   ]
  },
  {
   "cell_type": "code",
   "execution_count": 4,
   "id": "fd1c24fd-0d1b-44fb-9960-e27c4ce54c79",
   "metadata": {
    "scrolled": true
   },
   "outputs": [
    {
     "name": "stdout",
     "output_type": "stream",
     "text": [
      "Postuler pour Lead Product Line Manager, Expression\n",
      "\n",
      "Rechercher des postesPasser la navigationRechercher des postesNIKE, INC. JOBSEmplois temporairesJoin The Talent CommunityNike au quotidienPrésentationAvantages sociauxMarquesPrésentationJordanConverseÉquipesPrésentationSoutien administratifInnovation de pointeAir Manufacturing et InnovationAéronautiqueCommunicationsService clientConceptionNumériqueInstallationsFinance et comptabilitéAffaires gouvernementales et publiquesRessources humainesDonnées et analyseService juridiqueFabrication et ingénierieMarketingMerchandisingPlanificationConfidentialitéAchatsCréation, développement et gestion de produitsService de gestion des magasinsMagasinsVentesImpact social et communautaireMarketing sportsPlanification stratégiqueChaîne d'approvisionnement, distribution et logistiqueDurabilitéTechnologieSitesPrésentationNike WHQSiège de Nike à New YorkEHQ : Hilversum, Pays-BasELC: Laakdal, BelgiumGreater China HQDiversité, égalité et inclusivitéPrésentationMilitaryHandicap et inclusionInclusion autochtonesStagesProduct Creation, Development & ManagementLead Product Line Manager, ExpressionBeaverton, OregonRejoignez l'équipe NIKE, Inc.Loin de se contenter d'équiper les plus grands athlètes mondiaux,  NIKE, Inc. explore les potentiels, abolit les frontières et repousse les limites du possible. L'entreprise recherche des personnes capables d'évoluer, de réfléchir, de rêver et de créer. L'épanouissement de sa culture repose sur son ouverture à la diversité et sur sa façon d'encourager l'imagination. La marque a besoin de personnes talentueuses, de leaders et de visionnaires. Chez NIKE, Inc., chacun contribue, par ses compétences et sa passion, à jouer un match difficile en constante évolution.Une ébauche d'idée suffit à mettre en branle l'équipe dédiée aux produits de NIKE, Inc. Les développeurs, testeurs, ingénieurs, designers et responsables de l'équipe sont obnubilés par les silhouettes emblématiques de Nike et la création de modèles innovants. Ensemble, ses membres échangent des idées et affinent la structure des produits, leur coupe et leurs matériaux. Ils se tiennent informés des tendances des consommateurs et des marchés. Ils doivent résoudre des équations mêlant besoins des clients, faisabilité technique et objectifs commerciaux. De plus, ils travaillent de concert avec les services de merchandising, de conception, de fabrication et bien d'autres pour donner vie à des produits qui reflètent l'âme du sport et aident les athlètes à battre de nouveaux records.We are hiring for multiple Lead Product Line Manager positions!We seek individuals who will pioneer new spaces for the Brand and who wants to win and values being part of amazing teams.With the focus of this role on the Expression side of the Footwear Creations process, this person will need to have a great understanding of footwear, trends in color, graphics and material and be the pulse for style and what our Athletes are looking for. This person will also need to understand and utilize market trends, consumer behaviors & analytics to build insights to bring new products to our consumer.We are looking for someone authentic, curious, courageous, and inspired by the possibilities of the unknown. Through honesty, integrity, transparency, and openness, this candidate is looking to grow and challenge themselves. An individual who has a demonstrated track record of positively influencing internal and external partners. We are also looking for someone who actively creates an environment of inclusion and trust. Who seeks out different or opposing perspectives in a truth-seeking manner. Who works together with others as one team, supporting others in doing meaningful work while also driving impact.You will deliver results with clarity and accountability, demonstrating our shared purpose and commitments. We will think big, break down barriers and innovate.WHAT YOU WILL WORK ONFor our Lead, Womens Lifestyle FW Product Manager Running Expression and Lead, Womens Lifestyle FW Product Manager Court Expression roles: This is an opportunity to join the team that will create the future of (Women’s sneaker) culture. We are looking for an excellent consumerist with a passion for telling stories, obsessing the details & inspiring & mobilizing their teammates through strategic vision & product excellence.In this role, you will be asked to translate deep consumer insights into strategic plans to manage some of our most storied icons & establish future franchises. Led through an obsession of consumer right, rich narrative – our team tells stories & creates style choices for our consumers in a way only Nike can. We have the privilege of creating platforms that build inspiration & confidence to our consumers.For our Lead, Kids Sport | Lifestyle FW Product Manager Expression role: We’re looking for a Lead Product Line Manager for Kids Sport and Lifestyle Footwear Expression! This role requires someone with a passion for connecting to Nike’s youngest consumers. Through kid-right Sport and Lifestyle product and storytelling, you will create lifelong, brand loyal athletes* and lead the culture of youth.For our Lead, Mens | Womens Running FW Product Manager Expression role: Nike Running Footwear exists to serve athletes and create the future of Running footwear for all Runners. We obsess the needs of athletes, using their insights to create products that are beautiful, useful and that elevates human potential. We strive to be humble, real and to be the most Influential Running company. In the Running Footwear Expression Product Management team, we obsess how each and every product comes to life through color, material and graphic treatments ensuring they meet the needs of runners.For our Lead, NBHD Energy FW Product Manager Collabs Expression role: Nike Energy is the offense by which we create authentic connections with our most discerning consumers and help them fall in love with new ideas from Nike. The Energy-NBHD team partners across the NBHD (neighborhood) ecosystem (of catalysts, community leaders, curators, retailers, media, platforms, etc.) to drive those authentic connections within our communities and with our consumers.For our Lead, RNWY Energy FW Product Manager Quick Strike Expression role: The Energy offense ensures our most discerning and influential consumers find and fall in love with new ideas from Nike, by building authentic connections with culture and community & driving energy for new products and innovation.RNWY-Energy role: To create a new Nike ecosystem that leverages style and fashion -led partners* to gain and maintain relevance with our style obsessed consumer.Partners: People, Product & Marketplace - Co-Creation Collaborators, Ambassadors for seeding and activations, style driven RetailersRNWY-Energy Focus: Be the Ignition point to build future style culture that covers Performance and Lifestyle, as well as identify new opportunities to energize Nike footwear through the nuance of high Fashion and style. As a member of this team, you will work to identify Collaborators, Ambassadors and Quick-strike opportunities and build new products from initial concept and briefing to realization and launch.RNWY-Energy team: As a Footwear Product Line manager, within the RNWY-Energy team, you will work cross functionally as a “squad”, with a team of experts across Apparel, Merchandizing, Marketplace, Design, Product Creation, Marketing & Planning, with a common goal, to build and land cohesive and inspirational product concepts and capsules that capture the hearts and minds of our consumer and launch the future franchises of tomorrow.our style obsessed consumer.WHO YOU WILL WORK WITHYou'll be responsible for collaborating with Design, Tech Development, Merchandising and Brand teammates to create industry leading shoes with compelling & impactful stories.WHAT YOU BRINGRequirements:Bachelor's degree or an additional 2 years, or combination of relevant education, experience, and training5 years of product experienceProven track record of displaying strong business acuity & strategic decision makingPhenomenal product eyeStrong style sensibilityTrend foresightProven track record of fostering a collaborative team environmentAbility to tell compelling storiesStrategic thinking, product line management and franchise management experience, with ability to drive solid X-functional plans.Effective verbal and written communication skills, including presentationsExceptional attention to details and deadlinesStrong organizational & influencing skillsNIKE, Inc. est une entreprise en pleine croissance cherchant à intégrer à son équipe des personnes capables de se développer avec elle. Nike offre un généreux programme de rémunération globale, un environnement de travail décontracté, une culture variée et inclusive et une atmosphère dynamique propice au développement professionnel. Quels que soient le site ou le poste, les employés de Nike partagent tous la même mission stimulante : apporter inspiration et innovation aux athlètes* du monde entier.NIKE, Inc. s'engage à embaucher un personnel diversifié. Les candidats qualifiés seront considérés sans tenir compte de leur origine, couleur de peau, religion, sexe, nationalité, âge, orientation sexuelle, identité de genre, expression de genre, statut de vétéran ou handicap.Notre stratégie de recrutementNIKE, Inc. met tout en œuvre pour proposer une expérience de candidature qualitative, inclusive, intéressante et authentique. Pour ce faire, nous vous aidons à venir avec les meilleurs atouts possibles, et donc à comprendre comment fonctionne notre processus d'embauche. La transparence est essentielle.\n",
      "\n",
      "* Cette présentation explique notre processus de recrutement pour les postes basés dans nos bureaux. Il est possible que les étapes de recrutement soient différentes pour les postes basés ailleurs que dans nos bureaux.Commencer maintenantAvantages sociauxDes transports aux avantages financiers, nous investissons en permanence dans le bien-être de nos employés pour les aider à exceller en tous points, au travail comme dans la sphère privée. Tous ceux qui travaillent chez Nike devraient pouvoir exploiter pleinement leur potentiel.Programme d'aide aux employésPlan d'actionnariat salariéJours fériésCouverture médicaleCongés payésRéductions sur les produitsCongés sabbatiquesEn savoir plusCARTES CADEAUXTROUVER UN MAGASINNIKE JOURNALDEVENIR MEMBRERÉDUCTION POUR ÉTUDIANTSCOMMENTAIRESCODES PROMOAIDEAIDEStatut de commandeExpédition et livraisonRetoursModes de paiementNous contacterAide - Codes promo NikeÀ PROPOS DE NIKEÀ PROPOS DE NIKEActualitésCarrièresInvestisseursDéveloppement durableAPPLICATIONS NIKEAPPLICATIONS NIKENike AppNike Run ClubNike Training ClubSNKRSFrance© 2024 Nike, Inc. Tous droits réservésGuidesNike AdaptNike FlyEaseNike FreeNike VaporflyÉquipement de fan NBANike AirNike FlyKnitNike PegasusNike Zoom FlyFactory StoreNike Air MaxNike FlyleatherNike ReactNike ZoomXKids AirtopiaConditions d'utilisationConditions générales de venteMentions légalesPolitique en matière de confidentialité et de cookiesParamètres des cookies\n"
     ]
    }
   ],
   "source": [
    "### a new web scraping technique\n",
    "\n",
    "from langchain_community.document_loaders import WebBaseLoader\n",
    "\n",
    "loader = WebBaseLoader(\"https://jobs.nike.com/fr/job/R-30982?from=job%20search%20funnel\")\n",
    "page_data = loader.load().pop().page_content\n",
    "print(page_data)"
   ]
  },
  {
   "cell_type": "markdown",
   "id": "8cac9fb4-d099-4642-b840-24c82364b1aa",
   "metadata": {},
   "source": [
    "### Prompt Templates\n",
    "\n",
    "Prompt templates help to translate user input and parameters into instructions for a language model. This can be used to guide a model's response, helping it understand the context and generate relevant and coherent language-based output.\n",
    "\n",
    "Prompt Templates take as input a dictionary, where each key represents a variable in the prompt template to fill in.\n",
    "\n",
    "Prompt Templates output a PromptValue. This PromptValue can be passed to an LLM or a ChatModel"
   ]
  },
  {
   "cell_type": "code",
   "execution_count": 5,
   "id": "da0885dd-5a89-4863-9a8c-d272612bc184",
   "metadata": {},
   "outputs": [
    {
     "name": "stdout",
     "output_type": "stream",
     "text": [
      "[\n",
      "  {\n",
      "    \"role\": \"Lead Product Line Manager, Expression\",\n",
      "    \"experience\": \"5 years of product experience\",\n",
      "    \"skills\": [\n",
      "      \"Strong business acuity & strategic decision making\",\n",
      "      \"Phenomenal product eye\",\n",
      "      \"Strong style sensibility\",\n",
      "      \"Trend foresight\",\n",
      "      \"Ability to tell compelling stories\",\n",
      "      \"Strategic thinking, product line management and franchise management experience\",\n",
      "      \"Effective verbal and written communication skills\",\n",
      "      \"Exceptional attention to details and deadlines\",\n",
      "      \"Strong organizational & influencing skills\"\n",
      "    ],\n",
      "    \"description\": \"We are hiring for multiple Lead Product Line Manager positions! We seek individuals who will pioneer new spaces for the Brand and who wants to win and values being part of amazing teams.\"\n",
      "  },\n",
      "  {\n",
      "    \"role\": \"Lead, Womens Lifestyle FW Product Manager Running Expression\",\n",
      "    \"experience\": \"5 years of product experience\",\n",
      "    \"skills\": [\n",
      "      \"Strong business acuity & strategic decision making\",\n",
      "      \"Phenomenal product eye\",\n",
      "      \"Strong style sensibility\",\n",
      "      \"Trend foresight\",\n",
      "      \"Ability to tell compelling stories\",\n",
      "      \"Strategic thinking, product line management and franchise management experience\",\n",
      "      \"Effective verbal and written communication skills\",\n",
      "      \"Exceptional attention to details and deadlines\",\n",
      "      \"Strong organizational & influencing skills\"\n",
      "    ],\n",
      "    \"description\": \"This is an opportunity to join the team that will create the future of (Women’s sneaker) culture. We are looking for an excellent consumerist with a passion for telling stories, obsessing the details & inspiring & mobilizing their teammates through strategic vision & product excellence.\"\n",
      "  },\n",
      "  {\n",
      "    \"role\": \"Lead, Womens Lifestyle FW Product Manager Court Expression\",\n",
      "    \"experience\": \"5 years of product experience\",\n",
      "    \"skills\": [\n",
      "      \"Strong business acuity & strategic decision making\",\n",
      "      \"Phenomenal product eye\",\n",
      "      \"Strong style sensibility\",\n",
      "      \"Trend foresight\",\n",
      "      \"Ability to tell compelling stories\",\n",
      "      \"Strategic thinking, product line management and franchise management experience\",\n",
      "      \"Effective verbal and written communication skills\",\n",
      "      \"Exceptional attention to details and deadlines\",\n",
      "      \"Strong organizational & influencing skills\"\n",
      "    ],\n",
      "    \"description\": \"This is an opportunity to join the team that will create the future of (Women’s sneaker) culture. We are looking for an excellent consumerist with a passion for telling stories, obsessing the details & inspiring & mobilizing their teammates through strategic vision & product excellence.\"\n",
      "  },\n",
      "  {\n",
      "    \"role\": \"Lead, Kids Sport | Lifestyle FW Product Manager Expression\",\n",
      "    \"experience\": \"5 years of product experience\",\n",
      "    \"skills\": [\n",
      "      \"Strong business acuity & strategic decision making\",\n",
      "      \"Phenomenal product eye\",\n",
      "      \"Strong style sensibility\",\n",
      "      \"Trend foresight\",\n",
      "      \"Ability to tell compelling stories\",\n",
      "      \"Strategic thinking, product line management and franchise management experience\",\n",
      "      \"Effective verbal and written communication skills\",\n",
      "      \"Exceptional attention to details and deadlines\",\n",
      "      \"Strong organizational & influencing skills\"\n",
      "    ],\n",
      "    \"description\": \"We’re looking for a Lead Product Line Manager for Kids Sport and Lifestyle Footwear Expression! This role requires someone with a passion for connecting to Nike’s youngest consumers.\"\n",
      "  },\n",
      "  {\n",
      "    \"role\": \"Lead, Mens | Womens Running FW Product Manager Expression\",\n",
      "    \"experience\": \"5 years of product experience\",\n",
      "    \"skills\": [\n",
      "      \"Strong business acuity & strategic decision making\",\n",
      "      \"Phenomenal product eye\",\n",
      "      \"Strong style sensibility\",\n",
      "      \"Trend foresight\",\n",
      "      \"Ability to tell compelling stories\",\n",
      "      \"Strategic thinking, product line management and franchise management experience\",\n",
      "      \"Effective verbal and written communication skills\",\n",
      "      \"Exceptional attention to details and deadlines\",\n",
      "      \"Strong organizational & influencing skills\"\n",
      "    ],\n",
      "    \"description\": \"Nike Running Footwear exists to serve athletes and create the future of Running footwear for all Runners. We obsess the needs of athletes, using their insights to create products that are beautiful, useful and that elevates human potential.\"\n",
      "  },\n",
      "  {\n",
      "    \"role\": \"Lead, NBHD Energy FW Product Manager Collabs Expression\",\n",
      "    \"experience\": \"5 years of product experience\",\n",
      "    \"skills\": [\n",
      "      \"Strong business acuity & strategic decision making\",\n",
      "      \"Phenomenal product eye\",\n",
      "      \"Strong style sensibility\",\n",
      "      \"Trend foresight\",\n",
      "      \"Ability to tell compelling stories\",\n",
      "      \"Strategic thinking, product line management and franchise management experience\",\n",
      "      \"Effective verbal and written communication skills\",\n",
      "      \"Exceptional attention to details and deadlines\",\n",
      "      \"Strong organizational & influencing skills\"\n",
      "    ],\n",
      "    \"description\": \"Nike Energy is the offense by which we create authentic connections with our most discerning consumers and help them fall in love with new ideas from Nike.\"\n",
      "  },\n",
      "  {\n",
      "    \"role\": \"Lead, RNWY Energy FW Product Manager Quick Strike Expression\",\n",
      "    \"experience\": \"5 years of product experience\",\n",
      "    \"skills\": [\n",
      "      \"Strong business acuity & strategic decision making\",\n",
      "      \"Phenomenal product eye\",\n",
      "      \"Strong style sensibility\",\n",
      "      \"Trend foresight\",\n",
      "      \"Ability to tell compelling stories\",\n",
      "      \"Strategic thinking, product line management and franchise management experience\",\n",
      "      \"Effective verbal and written communication skills\",\n",
      "      \"Exceptional attention to details and deadlines\",\n",
      "      \"Strong organizational & influencing skills\"\n",
      "    ],\n",
      "    \"description\": \"The Energy offense ensures our most discerning and influential consumers find and fall in love with new ideas from Nike, by building authentic connections with culture and community & driving energy for new products and innovation.\"\n",
      "  }\n",
      "]\n"
     ]
    }
   ],
   "source": [
    "from langchain_core.prompts import PromptTemplate\n",
    "\n",
    "prompt_extract = PromptTemplate.from_template(\n",
    "        \"\"\"\n",
    "        ### SCRAPED TEXT FROM WEBSITE:\n",
    "        {page_data}\n",
    "        ### INSTRUCTION:\n",
    "        The scraped text is from the career's page of a website.\n",
    "        Your job is to extract the job postings and return them in JSON format containing the \n",
    "        following keys: `role`, `experience`, `skills` and `description`.\n",
    "        Only return the valid JSON.\n",
    "        ### VALID JSON (NO PREAMBLE):    \n",
    "        \"\"\"\n",
    ")\n",
    "\n",
    "chain_extract = prompt_extract | llm \n",
    "res = chain_extract.invoke(input={'page_data':page_data})\n",
    "#type(res.content)\n",
    "\n",
    "print(res.content)"
   ]
  },
  {
   "cell_type": "code",
   "execution_count": 12,
   "id": "ac6a39c4-9f3d-451a-9777-73e3bfaefd66",
   "metadata": {},
   "outputs": [
    {
     "data": {
      "text/plain": [
       "str"
      ]
     },
     "execution_count": 12,
     "metadata": {},
     "output_type": "execute_result"
    }
   ],
   "source": [
    "resultat = res.content\n",
    "type(resultat)"
   ]
  },
  {
   "cell_type": "code",
   "execution_count": 13,
   "id": "70808090-4369-4d00-ab7d-b2a484164866",
   "metadata": {
    "scrolled": true
   },
   "outputs": [
    {
     "data": {
      "text/plain": [
       "[{'role': 'Lead Product Line Manager, Expression',\n",
       "  'experience': '5 years of product experience',\n",
       "  'skills': ['Strong business acuity & strategic decision making',\n",
       "   'Phenomenal product eye',\n",
       "   'Strong style sensibility',\n",
       "   'Trend foresight',\n",
       "   'Ability to tell compelling stories',\n",
       "   'Strategic thinking, product line management and franchise management experience',\n",
       "   'Effective verbal and written communication skills',\n",
       "   'Exceptional attention to details and deadlines',\n",
       "   'Strong organizational & influencing skills'],\n",
       "  'description': 'We are hiring for multiple Lead Product Line Manager positions! We seek individuals who will pioneer new spaces for the Brand and who wants to win and values being part of amazing teams.'},\n",
       " {'role': 'Lead, Womens Lifestyle FW Product Manager Running Expression',\n",
       "  'experience': '5 years of product experience',\n",
       "  'skills': ['Strong business acuity & strategic decision making',\n",
       "   'Phenomenal product eye',\n",
       "   'Strong style sensibility',\n",
       "   'Trend foresight',\n",
       "   'Ability to tell compelling stories',\n",
       "   'Strategic thinking, product line management and franchise management experience',\n",
       "   'Effective verbal and written communication skills',\n",
       "   'Exceptional attention to details and deadlines',\n",
       "   'Strong organizational & influencing skills'],\n",
       "  'description': 'This is an opportunity to join the team that will create the future of (Women’s sneaker) culture. We are looking for an excellent consumerist with a passion for telling stories, obsessing the details & inspiring & mobilizing their teammates through strategic vision & product excellence.'},\n",
       " {'role': 'Lead, Womens Lifestyle FW Product Manager Court Expression',\n",
       "  'experience': '5 years of product experience',\n",
       "  'skills': ['Strong business acuity & strategic decision making',\n",
       "   'Phenomenal product eye',\n",
       "   'Strong style sensibility',\n",
       "   'Trend foresight',\n",
       "   'Ability to tell compelling stories',\n",
       "   'Strategic thinking, product line management and franchise management experience',\n",
       "   'Effective verbal and written communication skills',\n",
       "   'Exceptional attention to details and deadlines',\n",
       "   'Strong organizational & influencing skills'],\n",
       "  'description': 'This is an opportunity to join the team that will create the future of (Women’s sneaker) culture. We are looking for an excellent consumerist with a passion for telling stories, obsessing the details & inspiring & mobilizing their teammates through strategic vision & product excellence.'},\n",
       " {'role': 'Lead, Kids Sport | Lifestyle FW Product Manager Expression',\n",
       "  'experience': '5 years of product experience',\n",
       "  'skills': ['Strong business acuity & strategic decision making',\n",
       "   'Phenomenal product eye',\n",
       "   'Strong style sensibility',\n",
       "   'Trend foresight',\n",
       "   'Ability to tell compelling stories',\n",
       "   'Strategic thinking, product line management and franchise management experience',\n",
       "   'Effective verbal and written communication skills',\n",
       "   'Exceptional attention to details and deadlines',\n",
       "   'Strong organizational & influencing skills'],\n",
       "  'description': 'We’re looking for a Lead Product Line Manager for Kids Sport and Lifestyle Footwear Expression! This role requires someone with a passion for connecting to Nike’s youngest consumers.'},\n",
       " {'role': 'Lead, Mens | Womens Running FW Product Manager Expression',\n",
       "  'experience': '5 years of product experience',\n",
       "  'skills': ['Strong business acuity & strategic decision making',\n",
       "   'Phenomenal product eye',\n",
       "   'Strong style sensibility',\n",
       "   'Trend foresight',\n",
       "   'Ability to tell compelling stories',\n",
       "   'Strategic thinking, product line management and franchise management experience',\n",
       "   'Effective verbal and written communication skills',\n",
       "   'Exceptional attention to details and deadlines',\n",
       "   'Strong organizational & influencing skills'],\n",
       "  'description': 'Nike Running Footwear exists to serve athletes and create the future of Running footwear for all Runners. We obsess the needs of athletes, using their insights to create products that are beautiful, useful and that elevates human potential.'},\n",
       " {'role': 'Lead, NBHD Energy FW Product Manager Collabs Expression',\n",
       "  'experience': '5 years of product experience',\n",
       "  'skills': ['Strong business acuity & strategic decision making',\n",
       "   'Phenomenal product eye',\n",
       "   'Strong style sensibility',\n",
       "   'Trend foresight',\n",
       "   'Ability to tell compelling stories',\n",
       "   'Strategic thinking, product line management and franchise management experience',\n",
       "   'Effective verbal and written communication skills',\n",
       "   'Exceptional attention to details and deadlines',\n",
       "   'Strong organizational & influencing skills'],\n",
       "  'description': 'Nike Energy is the offense by which we create authentic connections with our most discerning consumers and help them fall in love with new ideas from Nike.'},\n",
       " {'role': 'Lead, RNWY Energy FW Product Manager Quick Strike Expression',\n",
       "  'experience': '5 years of product experience',\n",
       "  'skills': ['Strong business acuity & strategic decision making',\n",
       "   'Phenomenal product eye',\n",
       "   'Strong style sensibility',\n",
       "   'Trend foresight',\n",
       "   'Ability to tell compelling stories',\n",
       "   'Strategic thinking, product line management and franchise management experience',\n",
       "   'Effective verbal and written communication skills',\n",
       "   'Exceptional attention to details and deadlines',\n",
       "   'Strong organizational & influencing skills'],\n",
       "  'description': 'The Energy offense ensures our most discerning and influential consumers find and fall in love with new ideas from Nike, by building authentic connections with culture and community & driving energy for new products and innovation.'}]"
      ]
     },
     "execution_count": 13,
     "metadata": {},
     "output_type": "execute_result"
    }
   ],
   "source": [
    "### lets transform the str into json\n",
    "\n",
    "from langchain_core.output_parsers import JsonOutputParser\n",
    "\n",
    "json_parser = JsonOutputParser()\n",
    "json_res = json_parser.parse(resultat)\n",
    "json_res"
   ]
  },
  {
   "cell_type": "code",
   "execution_count": 26,
   "id": "96ff511a-5e3e-44a3-a6c8-26b0e565bfbc",
   "metadata": {},
   "outputs": [
    {
     "data": {
      "text/plain": [
       "7"
      ]
     },
     "execution_count": 26,
     "metadata": {},
     "output_type": "execute_result"
    }
   ],
   "source": [
    "len(json_res)"
   ]
  },
  {
   "cell_type": "code",
   "execution_count": 15,
   "id": "8ade1f22-a93c-4aef-a028-3daeed342804",
   "metadata": {},
   "outputs": [
    {
     "data": {
      "text/plain": [
       "{'role': 'Lead Product Line Manager, Expression',\n",
       " 'experience': '5 years of product experience',\n",
       " 'skills': ['Strong business acuity & strategic decision making',\n",
       "  'Phenomenal product eye',\n",
       "  'Strong style sensibility',\n",
       "  'Trend foresight',\n",
       "  'Ability to tell compelling stories',\n",
       "  'Strategic thinking, product line management and franchise management experience',\n",
       "  'Effective verbal and written communication skills',\n",
       "  'Exceptional attention to details and deadlines',\n",
       "  'Strong organizational & influencing skills'],\n",
       " 'description': 'We are hiring for multiple Lead Product Line Manager positions! We seek individuals who will pioneer new spaces for the Brand and who wants to win and values being part of amazing teams.'}"
      ]
     },
     "execution_count": 15,
     "metadata": {},
     "output_type": "execute_result"
    }
   ],
   "source": [
    "wanted_job = json_res[0]\n",
    "\n",
    "wanted_job"
   ]
  },
  {
   "cell_type": "code",
   "execution_count": 16,
   "id": "8ab79ea7-de16-448b-8cf1-84c36135eeb4",
   "metadata": {},
   "outputs": [
    {
     "data": {
      "text/html": [
       "<div>\n",
       "<style scoped>\n",
       "    .dataframe tbody tr th:only-of-type {\n",
       "        vertical-align: middle;\n",
       "    }\n",
       "\n",
       "    .dataframe tbody tr th {\n",
       "        vertical-align: top;\n",
       "    }\n",
       "\n",
       "    .dataframe thead th {\n",
       "        text-align: right;\n",
       "    }\n",
       "</style>\n",
       "<table border=\"1\" class=\"dataframe\">\n",
       "  <thead>\n",
       "    <tr style=\"text-align: right;\">\n",
       "      <th></th>\n",
       "      <th>Techstack</th>\n",
       "      <th>Links</th>\n",
       "    </tr>\n",
       "  </thead>\n",
       "  <tbody>\n",
       "    <tr>\n",
       "      <th>0</th>\n",
       "      <td>React, Node.js, MongoDB</td>\n",
       "      <td>https://example.com/react-portfolio</td>\n",
       "    </tr>\n",
       "    <tr>\n",
       "      <th>1</th>\n",
       "      <td>Angular,.NET, SQL Server</td>\n",
       "      <td>https://example.com/angular-portfolio</td>\n",
       "    </tr>\n",
       "    <tr>\n",
       "      <th>2</th>\n",
       "      <td>Vue.js, Ruby on Rails, PostgreSQL</td>\n",
       "      <td>https://example.com/vue-portfolio</td>\n",
       "    </tr>\n",
       "  </tbody>\n",
       "</table>\n",
       "</div>"
      ],
      "text/plain": [
       "                           Techstack                                  Links\n",
       "0            React, Node.js, MongoDB    https://example.com/react-portfolio\n",
       "1           Angular,.NET, SQL Server  https://example.com/angular-portfolio\n",
       "2  Vue.js, Ruby on Rails, PostgreSQL      https://example.com/vue-portfolio"
      ]
     },
     "execution_count": 16,
     "metadata": {},
     "output_type": "execute_result"
    }
   ],
   "source": [
    "import pandas as pd\n",
    "\n",
    "df = pd.read_csv(\"my_portfolio.csv\")\n",
    "df.head(3)"
   ]
  },
  {
   "cell_type": "code",
   "execution_count": 17,
   "id": "8646f89c-dc28-47f7-bcd7-7c8a5ffdbf8a",
   "metadata": {},
   "outputs": [],
   "source": [
    "import uuid\n",
    "import chromadb\n",
    "\n",
    "client = chromadb.PersistentClient('vectorstore') # with PersistantClient we create a vectordb in our directory\n",
    "collection = client.get_or_create_collection(name=\"portfolio\")\n",
    "\n",
    "if not collection.count():\n",
    "    for _, row in df.iterrows():\n",
    "        collection.add(documents=row[\"Techstack\"],\n",
    "                       metadatas={\"links\": row[\"Links\"]},\n",
    "                       ids=[str(uuid.uuid4())])"
   ]
  },
  {
   "cell_type": "code",
   "execution_count": 21,
   "id": "f8aced7c-7137-4413-b3d3-6214a43f4fd6",
   "metadata": {},
   "outputs": [
    {
     "data": {
      "text/plain": [
       "[[{'links': 'https://example.com/ml-python-portfolio'},\n",
       "  {'links': 'https://example.com/python-portfolio'}]]"
      ]
     },
     "execution_count": 21,
     "metadata": {},
     "output_type": "execute_result"
    }
   ],
   "source": [
    "links = collection.query(query_texts=[\"experience in python\"], n_results=2).get('metadatas', [])\n",
    "links"
   ]
  },
  {
   "cell_type": "code",
   "execution_count": 22,
   "id": "3cb8f982-d4ce-4ccd-a4b7-bca36312311e",
   "metadata": {
    "scrolled": true
   },
   "outputs": [
    {
     "data": {
      "text/plain": [
       "[[{'links': 'https://example.com/angular-portfolio'},\n",
       "  {'links': 'https://example.com/typescript-frontend-portfolio'}],\n",
       " [{'links': 'https://example.com/android-tv-portfolio'},\n",
       "  {'links': 'https://example.com/ml-python-portfolio'}],\n",
       " [{'links': 'https://example.com/ml-python-portfolio'},\n",
       "  {'links': 'https://example.com/ios-ar-portfolio'}],\n",
       " [{'links': 'https://example.com/android-tv-portfolio'},\n",
       "  {'links': 'https://example.com/ml-python-portfolio'}],\n",
       " [{'links': 'https://example.com/vue-portfolio'},\n",
       "  {'links': 'https://example.com/ios-ar-portfolio'}],\n",
       " [{'links': 'https://example.com/full-stack-js-portfolio'},\n",
       "  {'links': 'https://example.com/devops-portfolio'}],\n",
       " [{'links': 'https://example.com/android-portfolio'},\n",
       "  {'links': 'https://example.com/ml-python-portfolio'}],\n",
       " [{'links': 'https://example.com/ios-portfolio'},\n",
       "  {'links': 'https://example.com/full-stack-js-portfolio'}],\n",
       " [{'links': 'https://example.com/typescript-frontend-portfolio'},\n",
       "  {'links': 'https://example.com/magento-portfolio'}]]"
      ]
     },
     "execution_count": 22,
     "metadata": {},
     "output_type": "execute_result"
    }
   ],
   "source": [
    "links1 = collection.query(query_texts=wanted_job['skills'], n_results=2).get('metadatas', [])\n",
    "links1"
   ]
  },
  {
   "cell_type": "code",
   "execution_count": 23,
   "id": "5c9eb500-3d65-4e04-9660-d0ea2417eca3",
   "metadata": {},
   "outputs": [
    {
     "data": {
      "text/plain": [
       "['Strong business acuity & strategic decision making',\n",
       " 'Phenomenal product eye',\n",
       " 'Strong style sensibility',\n",
       " 'Trend foresight',\n",
       " 'Ability to tell compelling stories',\n",
       " 'Strategic thinking, product line management and franchise management experience',\n",
       " 'Effective verbal and written communication skills',\n",
       " 'Exceptional attention to details and deadlines',\n",
       " 'Strong organizational & influencing skills']"
      ]
     },
     "execution_count": 23,
     "metadata": {},
     "output_type": "execute_result"
    }
   ],
   "source": [
    "wanted_job['skills']"
   ]
  },
  {
   "cell_type": "code",
   "execution_count": 25,
   "id": "c9bfc4c4-0451-4989-b3a1-c9fc4117f1f7",
   "metadata": {},
   "outputs": [
    {
     "name": "stdout",
     "output_type": "stream",
     "text": [
      "Subject: Expert Product Line Management Solutions for Your Business\n",
      "\n",
      "Dear Hiring Manager,\n",
      "\n",
      "I came across the job description for the Lead Product Line Manager, Expression position at your esteemed organization, and I was impressed by the role's requirements and responsibilities. As a Business Development Executive at AtliQ, I believe our company can provide the necessary expertise to support your product line management needs.\n",
      "\n",
      "At AtliQ, we have a proven track record of empowering enterprises with tailored solutions that foster scalability, process optimization, cost reduction, and heightened overall efficiency. Our team of experts has extensive experience in developing and implementing AI-powered tools that can help streamline product line management, trend forecasting, and strategic decision-making.\n",
      "\n",
      "Our capabilities align with the skills required for the Lead Product Line Manager position, including:\n",
      "\n",
      "* Strong business acuity and strategic decision-making\n",
      "* Phenomenal product eye and trend foresight\n",
      "* Ability to tell compelling stories and effective communication skills\n",
      "* Strategic thinking, product line management, and franchise management experience\n",
      "\n",
      "We have successfully developed and implemented various AI-powered solutions for our clients, including machine learning models and data analytics tools. You can find some examples of our work in the following portfolios:\n",
      "\n",
      "* https://example.com/ml-python-portfolio (Machine Learning and Python-based solutions)\n",
      "* https://example.com/python-portfolio (Python-based solutions for data analytics and automation)\n",
      "\n",
      "Our team is committed to delivering high-quality solutions that meet the specific needs of our clients. We would be delighted to discuss how our expertise can support your product line management needs and contribute to the success of your organization.\n",
      "\n",
      "Please feel free to contact me to schedule a call to explore this opportunity further.\n",
      "\n",
      "Best regards,\n",
      "\n",
      "Mohan\n",
      "Business Development Executive\n",
      "AtliQ\n"
     ]
    }
   ],
   "source": [
    "prompt_email = PromptTemplate.from_template(\n",
    "    \n",
    "        \"\"\"\n",
    "        ### JOB DESCRIPTION:\n",
    "        {job_description}\n",
    "        \n",
    "        ### INSTRUCTION:\n",
    "        You are Mohan, a business development executive at AtliQ. AtliQ is an AI & Software Consulting company dedicated to facilitating\n",
    "        the seamless integration of business processes through automated tools. \n",
    "        Over our experience, we have empowered numerous enterprises with tailored solutions, fostering scalability, \n",
    "        process optimization, cost reduction, and heightened overall efficiency. \n",
    "        Your job is to write a cold email to the client regarding the job mentioned above describing the capability of AtliQ \n",
    "        in fulfilling their needs.\n",
    "        Also add the most relevant ones from the following links to showcase Atliq's portfolio: {link_list}\n",
    "        Remember you are Mohan, BDE at AtliQ. \n",
    "        Do not provide a preamble.\n",
    "        ### EMAIL (NO PREAMBLE):\n",
    "        \n",
    "        \"\"\"\n",
    "        )\n",
    "\n",
    "chain_email = prompt_email | llm\n",
    "res = chain_email.invoke({\"job_description\": str(wanted_job), \"link_list\": links})\n",
    "print(res.content)"
   ]
  }
 ],
 "metadata": {
  "kernelspec": {
   "display_name": "Python 3 (ipykernel)",
   "language": "python",
   "name": "python3"
  },
  "language_info": {
   "codemirror_mode": {
    "name": "ipython",
    "version": 3
   },
   "file_extension": ".py",
   "mimetype": "text/x-python",
   "name": "python",
   "nbconvert_exporter": "python",
   "pygments_lexer": "ipython3",
   "version": "3.11.0"
  }
 },
 "nbformat": 4,
 "nbformat_minor": 5
}
